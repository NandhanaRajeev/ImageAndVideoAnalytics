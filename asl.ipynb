{
 "cells": [
  {
   "cell_type": "code",
   "execution_count": 16,
   "metadata": {},
   "outputs": [
    {
     "name": "stdout",
     "output_type": "stream",
     "text": [
      "Defaulting to user installation because normal site-packages is not writeable\n",
      "Requirement already satisfied: opencv-python in c:\\users\\user\\appdata\\roaming\\python\\python311\\site-packages (4.10.0.84)\n",
      "Requirement already satisfied: numpy>=1.21.2 in c:\\users\\user\\appdata\\roaming\\python\\python311\\site-packages (from opencv-python) (1.26.4)\n",
      "Note: you may need to restart the kernel to use updated packages.\n"
     ]
    },
    {
     "name": "stderr",
     "output_type": "stream",
     "text": [
      "DEPRECATION: Loading egg at c:\\program files\\python311\\lib\\site-packages\\vboxapi-1.0-py3.11.egg is deprecated. pip 25.1 will enforce this behaviour change. A possible replacement is to use pip for package installation. Discussion can be found at https://github.com/pypa/pip/issues/12330\n"
     ]
    }
   ],
   "source": [
    "pip install opencv-python\n"
   ]
  },
  {
   "cell_type": "code",
   "execution_count": 17,
   "metadata": {},
   "outputs": [],
   "source": [
    "import cv2\n",
    "import numpy as np\n",
    "import os\n",
    "import matplotlib.pyplot as plt\n",
    "from sklearn.model_selection import train_test_split\n"
   ]
  },
  {
   "cell_type": "code",
   "execution_count": 18,
   "metadata": {},
   "outputs": [],
   "source": [
    "def preprocess_images(dataset_path, image_size=(28, 28)):\n",
    "    data = []\n",
    "    labels = []\n",
    "\n",
    "    # Loop through each directory (digit/letter folder)\n",
    "    for folder_name in os.listdir(dataset_path):\n",
    "        folder_path = os.path.join(dataset_path, folder_name)\n",
    "\n",
    "        if os.path.isdir(folder_path):\n",
    "            # Loop through each image in the folder\n",
    "            for image_name in os.listdir(folder_path):\n",
    "                image_path = os.path.join(folder_path, image_name)\n",
    "\n",
    "                # Read the image\n",
    "                image = cv2.imread(image_path)\n",
    "\n",
    "                # Convert the image to grayscale\n",
    "                gray_image = cv2.cvtColor(image, cv2.COLOR_BGR2GRAY)\n",
    "\n",
    "                # Resize the image to the desired size (e.g., 28x28 for MNIST-like data)\n",
    "                resized_image = cv2.resize(gray_image, image_size)\n",
    "\n",
    "                # Thresholding (convert to binary image)\n",
    "                _, binary_image = cv2.threshold(resized_image, 128, 255, cv2.THRESH_BINARY)\n",
    "\n",
    "                # Optionally apply more advanced preprocessing (erosion, dilation, etc.)\n",
    "                kernel = np.ones((3, 3), np.uint8)\n",
    "                eroded_image = cv2.erode(binary_image, kernel, iterations=1)\n",
    "                dilated_image = cv2.dilate(eroded_image, kernel, iterations=1)\n",
    "\n",
    "                # Flatten the image and append to data\n",
    "                data.append(dilated_image.flatten())\n",
    "                \n",
    "                # Append the label (digit/letter)\n",
    "                labels.append(folder_name)\n",
    "\n",
    "    return np.array(data), np.array(labels)\n"
   ]
  },
  {
   "cell_type": "code",
   "execution_count": 19,
   "metadata": {},
   "outputs": [],
   "source": [
    "# Define the dataset path\n",
    "dataset_path = r'asl_dataset\\asl_dataset'\n",
    "\n",
    "\n",
    "# Preprocess the images\n",
    "X, y = preprocess_images(dataset_path)\n",
    "\n",
    "# Split into training and testing sets\n",
    "X_train, X_test, y_train, y_test = train_test_split(X, y, test_size=0.2, random_state=42)\n",
    "\n",
    "# Optionally, scale pixel values (normalize between 0 and 1)\n",
    "X_train = X_train / 255.0\n",
    "X_test = X_test / 255.0\n"
   ]
  },
  {
   "cell_type": "code",
   "execution_count": 22,
   "metadata": {},
   "outputs": [
    {
     "data": {
      "image/png": "[encoded data removed]",
      "text/plain": [
       "<Figure size 640x480 with 1 Axes>"
      ]
     },
     "metadata": {},
     "output_type": "display_data"
    }
   ],
   "source": [
    "# Function to display the image\n",
    "def display_image(image_data, label, image_size=(28, 28)):\n",
    "    # Reshape the flat image data back to its 2D form\n",
    "    image = image_data.reshape(image_size)\n",
    "\n",
    "    # Display the image\n",
    "    plt.imshow(image, cmap='gray')\n",
    "    plt.title(f\"Label: {label}\")\n",
    "    plt.axis('off')  # Turn off axis labels\n",
    "    plt.show()\n",
    "\n",
    "# Display a sample preprocessed image from the training set\n",
    "display_image(X_train[0], y_train[0])"
   ]
  },
  {
   "cell_type": "code",
   "execution_count": null,
   "metadata": {},
   "outputs": [],
   "source": []
  }
 ],
 "metadata": {
  "kernelspec": {
   "display_name": "Python 3",
   "language": "python",
   "name": "python3"
  },
  "language_info": {
   "codemirror_mode": {
    "name": "ipython",
    "version": 3
   },
   "file_extension": ".py",
   "mimetype": "text/x-python",
   "name": "python",
   "nbconvert_exporter": "python",
   "pygments_lexer": "ipython3",
   "version": "3.11.4"
  }
 },
 "nbformat": 4,
 "nbformat_minor": 2
}
